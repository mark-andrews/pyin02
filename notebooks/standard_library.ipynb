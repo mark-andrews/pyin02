{
 "cells": [
  {
   "cell_type": "code",
   "execution_count": 1,
   "metadata": {},
   "outputs": [],
   "source": [
    "import urllib"
   ]
  },
  {
   "cell_type": "code",
   "execution_count": 2,
   "metadata": {},
   "outputs": [],
   "source": [
    "story  = urllib.request.urlopen('https://www.gutenberg.org/files/120/120-0.txt').read().decode(\"utf-8\")"
   ]
  },
  {
   "cell_type": "code",
   "execution_count": 27,
   "metadata": {},
   "outputs": [],
   "source": [
    "from collections import defaultdict, deque"
   ]
  },
  {
   "cell_type": "code",
   "execution_count": 16,
   "metadata": {},
   "outputs": [],
   "source": [
    "counter = defaultdict(int)"
   ]
  },
  {
   "cell_type": "code",
   "execution_count": 7,
   "metadata": {},
   "outputs": [
    {
     "data": {
      "text/plain": [
       "0"
      ]
     },
     "execution_count": 7,
     "metadata": {},
     "output_type": "execute_result"
    }
   ],
   "source": [
    "int()"
   ]
  },
  {
   "cell_type": "code",
   "execution_count": 8,
   "metadata": {},
   "outputs": [
    {
     "data": {
      "text/plain": [
       "[]"
      ]
     },
     "execution_count": 8,
     "metadata": {},
     "output_type": "execute_result"
    }
   ],
   "source": [
    "list()"
   ]
  },
  {
   "cell_type": "code",
   "execution_count": 10,
   "metadata": {},
   "outputs": [],
   "source": [
    "f = lambda : 'a'"
   ]
  },
  {
   "cell_type": "code",
   "execution_count": 11,
   "metadata": {},
   "outputs": [
    {
     "data": {
      "text/plain": [
       "'a'"
      ]
     },
     "execution_count": 11,
     "metadata": {},
     "output_type": "execute_result"
    }
   ],
   "source": [
    "f()"
   ]
  },
  {
   "cell_type": "code",
   "execution_count": 14,
   "metadata": {},
   "outputs": [],
   "source": [
    "counter = defaultdict(lambda : 'a')"
   ]
  },
  {
   "cell_type": "code",
   "execution_count": 15,
   "metadata": {},
   "outputs": [
    {
     "data": {
      "text/plain": [
       "'a'"
      ]
     },
     "execution_count": 15,
     "metadata": {},
     "output_type": "execute_result"
    }
   ],
   "source": [
    "counter['some key that obviously does not exist']"
   ]
  },
  {
   "cell_type": "code",
   "execution_count": 17,
   "metadata": {},
   "outputs": [],
   "source": [
    "for s in story:\n",
    "    counter[s] += 1"
   ]
  },
  {
   "cell_type": "code",
   "execution_count": 19,
   "metadata": {},
   "outputs": [
    {
     "name": "stdout",
     "output_type": "stream",
     "text": [
      "﻿\n"
     ]
    }
   ],
   "source": [
    "print(story[0])"
   ]
  },
  {
   "cell_type": "code",
   "execution_count": 20,
   "metadata": {},
   "outputs": [
    {
     "data": {
      "text/plain": [
       "defaultdict(int,\n",
       "            {'\\ufeff': 1,\n",
       "             'T': 942,\n",
       "             'h': 18085,\n",
       "             'e': 34862,\n",
       "             ' ': 67002,\n",
       "             'P': 273,\n",
       "             'r': 16200,\n",
       "             'o': 22748,\n",
       "             'j': 246,\n",
       "             'c': 6298,\n",
       "             't': 25528,\n",
       "             'G': 275,\n",
       "             'u': 8640,\n",
       "             'n': 19847,\n",
       "             'b': 4314,\n",
       "             'g': 5753,\n",
       "             'E': 333,\n",
       "             'B': 483,\n",
       "             'k': 2906,\n",
       "             'f': 5881,\n",
       "             'a': 23870,\n",
       "             's': 16962,\n",
       "             'I': 2549,\n",
       "             'l': 11682,\n",
       "             'd': 13928,\n",
       "             ',': 6583,\n",
       "             'y': 5789,\n",
       "             'R': 225,\n",
       "             'L': 311,\n",
       "             'i': 16338,\n",
       "             'S': 708,\n",
       "             'v': 2391,\n",
       "             '\\r': 7891,\n",
       "             '\\n': 7891,\n",
       "             'w': 7173,\n",
       "             'U': 90,\n",
       "             'm': 6718,\n",
       "             'p': 4666,\n",
       "             '.': 3881,\n",
       "             'Y': 176,\n",
       "             '-': 1374,\n",
       "             \"'\": 9,\n",
       "             ':': 84,\n",
       "             'A': 842,\n",
       "             'D': 282,\n",
       "             'M': 240,\n",
       "             '1': 122,\n",
       "             '3': 37,\n",
       "             '9': 23,\n",
       "             '4': 27,\n",
       "             '[': 2,\n",
       "             '#': 1,\n",
       "             '2': 55,\n",
       "             '0': 40,\n",
       "             ']': 2,\n",
       "             'O': 290,\n",
       "             '8': 25,\n",
       "             'C': 202,\n",
       "             'F': 229,\n",
       "             '*': 28,\n",
       "             'H': 508,\n",
       "             'J': 257,\n",
       "             'N': 346,\n",
       "             'K': 32,\n",
       "             'W': 380,\n",
       "             'x': 272,\n",
       "             '!': 302,\n",
       "             '7': 24,\n",
       "             '5': 25,\n",
       "             '6': 20,\n",
       "             '’': 1540,\n",
       "             'V': 31,\n",
       "             '“': 1237,\n",
       "             '”': 1233,\n",
       "             'X': 4,\n",
       "             'Q': 4,\n",
       "             '_': 2,\n",
       "             ';': 664,\n",
       "             '?': 280,\n",
       "             'q': 291,\n",
       "             '(': 31,\n",
       "             ')': 31,\n",
       "             'z': 94,\n",
       "             '‘': 32,\n",
       "             '′': 2,\n",
       "             '″': 2,\n",
       "             '/': 12,\n",
       "             '\"': 22,\n",
       "             '%': 1,\n",
       "             '@': 1,\n",
       "             '$': 2})"
      ]
     },
     "execution_count": 20,
     "metadata": {},
     "output_type": "execute_result"
    }
   ],
   "source": [
    "counter"
   ]
  },
  {
   "cell_type": "code",
   "execution_count": 21,
   "metadata": {},
   "outputs": [],
   "source": [
    "import string"
   ]
  },
  {
   "cell_type": "code",
   "execution_count": 22,
   "metadata": {},
   "outputs": [
    {
     "data": {
      "text/plain": [
       "'abcdefghijklmnopqrstuvwxyzABCDEFGHIJKLMNOPQRSTUVWXYZ'"
      ]
     },
     "execution_count": 22,
     "metadata": {},
     "output_type": "execute_result"
    }
   ],
   "source": [
    "string.ascii_letters"
   ]
  },
  {
   "cell_type": "code",
   "execution_count": 24,
   "metadata": {},
   "outputs": [
    {
     "data": {
      "text/plain": [
       "'ABCDEFGHIJKLMNOPQRSTUVWXYZ'"
      ]
     },
     "execution_count": 24,
     "metadata": {},
     "output_type": "execute_result"
    }
   ],
   "source": [
    "string.ascii_uppercase"
   ]
  },
  {
   "cell_type": "code",
   "execution_count": 25,
   "metadata": {},
   "outputs": [],
   "source": [
    "counter = defaultdict(int)\n",
    "for s in story:\n",
    "    if s in string.ascii_letters:\n",
    "        counter[s] += 1"
   ]
  },
  {
   "cell_type": "code",
   "execution_count": 26,
   "metadata": {},
   "outputs": [
    {
     "data": {
      "text/plain": [
       "defaultdict(int,\n",
       "            {'T': 942,\n",
       "             'h': 18085,\n",
       "             'e': 34862,\n",
       "             'P': 273,\n",
       "             'r': 16200,\n",
       "             'o': 22748,\n",
       "             'j': 246,\n",
       "             'c': 6298,\n",
       "             't': 25528,\n",
       "             'G': 275,\n",
       "             'u': 8640,\n",
       "             'n': 19847,\n",
       "             'b': 4314,\n",
       "             'g': 5753,\n",
       "             'E': 333,\n",
       "             'B': 483,\n",
       "             'k': 2906,\n",
       "             'f': 5881,\n",
       "             'a': 23870,\n",
       "             's': 16962,\n",
       "             'I': 2549,\n",
       "             'l': 11682,\n",
       "             'd': 13928,\n",
       "             'y': 5789,\n",
       "             'R': 225,\n",
       "             'L': 311,\n",
       "             'i': 16338,\n",
       "             'S': 708,\n",
       "             'v': 2391,\n",
       "             'w': 7173,\n",
       "             'U': 90,\n",
       "             'm': 6718,\n",
       "             'p': 4666,\n",
       "             'Y': 176,\n",
       "             'A': 842,\n",
       "             'D': 282,\n",
       "             'M': 240,\n",
       "             'O': 290,\n",
       "             'C': 202,\n",
       "             'F': 229,\n",
       "             'H': 508,\n",
       "             'J': 257,\n",
       "             'N': 346,\n",
       "             'K': 32,\n",
       "             'W': 380,\n",
       "             'x': 272,\n",
       "             'V': 31,\n",
       "             'X': 4,\n",
       "             'Q': 4,\n",
       "             'q': 291,\n",
       "             'z': 94})"
      ]
     },
     "execution_count": 26,
     "metadata": {},
     "output_type": "execute_result"
    }
   ],
   "source": [
    "counter"
   ]
  },
  {
   "cell_type": "code",
   "execution_count": 28,
   "metadata": {},
   "outputs": [],
   "source": [
    "x = deque([1, 2, 3, 4, 5, 6])"
   ]
  },
  {
   "cell_type": "code",
   "execution_count": 29,
   "metadata": {},
   "outputs": [
    {
     "data": {
      "text/plain": [
       "deque([1, 2, 3, 4, 5, 6])"
      ]
     },
     "execution_count": 29,
     "metadata": {},
     "output_type": "execute_result"
    }
   ],
   "source": [
    "x"
   ]
  },
  {
   "cell_type": "code",
   "execution_count": 30,
   "metadata": {},
   "outputs": [
    {
     "data": {
      "text/plain": [
       "1"
      ]
     },
     "execution_count": 30,
     "metadata": {},
     "output_type": "execute_result"
    }
   ],
   "source": [
    "x[0]"
   ]
  },
  {
   "cell_type": "code",
   "execution_count": 31,
   "metadata": {},
   "outputs": [
    {
     "data": {
      "text/plain": [
       "3"
      ]
     },
     "execution_count": 31,
     "metadata": {},
     "output_type": "execute_result"
    }
   ],
   "source": [
    "x[2]"
   ]
  },
  {
   "cell_type": "code",
   "execution_count": 32,
   "metadata": {},
   "outputs": [
    {
     "data": {
      "text/plain": [
       "6"
      ]
     },
     "execution_count": 32,
     "metadata": {},
     "output_type": "execute_result"
    }
   ],
   "source": [
    "x[-1]"
   ]
  },
  {
   "cell_type": "code",
   "execution_count": 33,
   "metadata": {},
   "outputs": [
    {
     "data": {
      "text/plain": [
       "6"
      ]
     },
     "execution_count": 33,
     "metadata": {},
     "output_type": "execute_result"
    }
   ],
   "source": [
    "x.pop()"
   ]
  },
  {
   "cell_type": "code",
   "execution_count": 34,
   "metadata": {},
   "outputs": [],
   "source": [
    "x.insert(0, 0)"
   ]
  },
  {
   "cell_type": "code",
   "execution_count": 35,
   "metadata": {},
   "outputs": [
    {
     "data": {
      "text/plain": [
       "deque([0, 1, 2, 3, 4, 5])"
      ]
     },
     "execution_count": 35,
     "metadata": {},
     "output_type": "execute_result"
    }
   ],
   "source": [
    "x"
   ]
  },
  {
   "cell_type": "code",
   "execution_count": 36,
   "metadata": {},
   "outputs": [],
   "source": [
    "x.appendleft(-1)"
   ]
  },
  {
   "cell_type": "code",
   "execution_count": 37,
   "metadata": {},
   "outputs": [
    {
     "data": {
      "text/plain": [
       "deque([-1, 0, 1, 2, 3, 4, 5])"
      ]
     },
     "execution_count": 37,
     "metadata": {},
     "output_type": "execute_result"
    }
   ],
   "source": [
    "x"
   ]
  },
  {
   "cell_type": "code",
   "execution_count": 38,
   "metadata": {},
   "outputs": [],
   "source": [
    "x.rotate(1)"
   ]
  },
  {
   "cell_type": "code",
   "execution_count": 40,
   "metadata": {},
   "outputs": [],
   "source": [
    "x.rotate(-1)"
   ]
  },
  {
   "cell_type": "code",
   "execution_count": 43,
   "metadata": {},
   "outputs": [
    {
     "data": {
      "text/plain": [
       "deque([2, 3, 4, 5, -1, 0, 1])"
      ]
     },
     "execution_count": 43,
     "metadata": {},
     "output_type": "execute_result"
    }
   ],
   "source": [
    "x"
   ]
  },
  {
   "cell_type": "code",
   "execution_count": null,
   "metadata": {},
   "outputs": [],
   "source": []
  }
 ],
 "metadata": {
  "kernelspec": {
   "display_name": "Python 3",
   "language": "python",
   "name": "python3"
  },
  "language_info": {
   "codemirror_mode": {
    "name": "ipython",
    "version": 3
   },
   "file_extension": ".py",
   "mimetype": "text/x-python",
   "name": "python",
   "nbconvert_exporter": "python",
   "pygments_lexer": "ipython3",
   "version": "3.9.4"
  }
 },
 "nbformat": 4,
 "nbformat_minor": 4
}
